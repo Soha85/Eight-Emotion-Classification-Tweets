{
 "cells": [
  {
   "cell_type": "code",
   "execution_count": 1,
   "metadata": {},
   "outputs": [
    {
     "name": "stderr",
     "output_type": "stream",
     "text": [
      "Using TensorFlow backend.\n"
     ]
    },
    {
     "data": {
      "text/plain": [
       "'tf'"
      ]
     },
     "execution_count": 1,
     "metadata": {},
     "output_type": "execute_result"
    }
   ],
   "source": [
    "import warnings\n",
    "warnings.filterwarnings(\"ignore\")\n",
    "import keras.backend as K\n",
    "import csv;\n",
    "import numpy as np\n",
    "import pandas as pd\n",
    "from sklearn.preprocessing import MultiLabelBinarizer\n",
    "import keras\n",
    "from keras.models import Sequential,Model\n",
    "from keras import optimizers\n",
    "from keras.layers import Dense, Activation, Dropout, Conv1D,MaxPooling1D,Flatten,Concatenate,concatenate,Input,AveragePooling1D\n",
    "from keras.layers.merge import concatenate\n",
    "from keras.utils.vis_utils import plot_model\n",
    "from sklearn.metrics import accuracy_score,hamming_loss\n",
    "from sklearn.metrics import *\n",
    "import os\n",
    "os.environ[\"PATH\"] += os.pathsep + 'C:/Program Files (x86)/Graphviz2.38/bin/'\n",
    "K.common.image_dim_ordering()"
   ]
  },
  {
   "cell_type": "code",
   "execution_count": 2,
   "metadata": {},
   "outputs": [],
   "source": [
    "def f1_score(y_true, y_pred):\n",
    "\n",
    "    # Count positive samples.\n",
    "    c1 = K.sum(K.round(K.clip(y_true * y_pred, 0, 1)))\n",
    "    c2 = K.sum(K.round(K.clip(y_pred, 0, 1)))\n",
    "    c3 = K.sum(K.round(K.clip(y_true, 0, 1)))\n",
    "\n",
    "    # If there are no true samples, fix the F1 score at 0.\n",
    "    if c3 == 0:\n",
    "        return 0\n",
    "\n",
    "    # How many selected items are relevant?\n",
    "    precision = c1 / c2\n",
    "\n",
    "    # How many relevant items are selected?\n",
    "    recall = c1 / c3\n",
    "\n",
    "    # Calculate f1_score\n",
    "    f1_score = 2 * (precision * recall) / (precision + recall)\n",
    "    return f1_score\n",
    "\n",
    "\n",
    "def precision(y_true, y_pred):\n",
    "\n",
    "    # Count positive samples.\n",
    "    c1 = K.sum(K.round(K.clip(y_true * y_pred, 0, 1)))\n",
    "    c2 = K.sum(K.round(K.clip(y_pred, 0, 1)))\n",
    "    \n",
    "\n",
    "    # How many selected items are relevant?\n",
    "    precision = c1 / c2\n",
    "\n",
    "    return precision\n",
    "\n",
    "def recall(y_true, y_pred):\n",
    "\n",
    "    # Count positive samples.\n",
    "    c1 = K.sum(K.round(K.clip(y_true * y_pred, 0, 1)))\n",
    "    c3 = K.sum(K.round(K.clip(y_true, 0, 1)))\n",
    "\n",
    "    # If there are no true samples, fix the F1 score at 0.\n",
    "    if c3 == 0:\n",
    "        return 0\n",
    "\n",
    "    # How many relevant items are selected?\n",
    "    recall = c1 / c3\n",
    "\n",
    "    return recall\n",
    "\n",
    "def hamming_loss(y_true, y_pred):\n",
    "    # Avoid divide by 0\n",
    "    y_pred = K.clip(y_pred, K.epsilon(), 1 - K.epsilon())\n",
    "    # Multi-task loss\n",
    "    return K.mean(K.sum(- y_true * K.log(y_pred) - (1 - y_true) * K.log(1 - y_pred), axis=1))\n",
    "def hamming_score(y_true, y_pred, normalize=True, sample_weight=None):\n",
    "    '''\n",
    "    Compute the Hamming score (a.k.a. label-based accuracy) for the multi-label case\n",
    "    http://stackoverflow.com/q/32239577/395857\n",
    "    '''\n",
    "    acc_list = []\n",
    "    for i in range(y_true.shape[0]):\n",
    "        set_true = set( np.where(y_true[i])[0] )\n",
    "        set_pred = set( np.where(y_pred[i])[0] )\n",
    "        tmp_a = None\n",
    "        if len(set_true) == 0 and len(set_pred) == 0:\n",
    "            tmp_a = 1\n",
    "        else:\n",
    "            tmp_a = len(set_true.intersection(set_pred))/float(len(set_true.union(set_pred)) )\n",
    "        acc_list.append(tmp_a)\n",
    "    return np.mean(acc_list)"
   ]
  },
  {
   "cell_type": "code",
   "execution_count": 3,
   "metadata": {},
   "outputs": [],
   "source": [
    "xtraindf=pd.read_csv(\"train8em.csv\")\n",
    "ytraindf=pd.read_csv(\"trainlbl8em.csv\")\n",
    "xtestdf=pd.read_csv(\"test8em.csv\")\n",
    "ytestdf=pd.read_csv(\"testlbl8em.csv\")"
   ]
  },
  {
   "cell_type": "code",
   "execution_count": 4,
   "metadata": {},
   "outputs": [],
   "source": [
    "x_train=np.array(xtraindf.iloc[:,2:],dtype=float)\n",
    "x_test=np.array(xtestdf.iloc[:,2:],dtype=float)"
   ]
  },
  {
   "cell_type": "code",
   "execution_count": 5,
   "metadata": {},
   "outputs": [],
   "source": [
    "y_train=np.array(ytraindf.iloc[:,8])\n",
    "y_test=np.array(ytestdf.iloc[:,8])"
   ]
  },
  {
   "cell_type": "code",
   "execution_count": 6,
   "metadata": {},
   "outputs": [],
   "source": [
    "import ast\n",
    "\n",
    "y_train=pd.DataFrame(ytraindf.iloc[:,8])\n",
    "y_train[\"classes\"]=y_train[\"classes\"].apply(lambda x: [i.strip() for i in ast.literal_eval(x)])\n",
    "\n",
    "y_test=pd.DataFrame(ytestdf.iloc[:,8])\n",
    "y_test[\"classes\"]=y_test[\"classes\"].apply(lambda x: [i.strip() for i in ast.literal_eval(x)])"
   ]
  },
  {
   "cell_type": "code",
   "execution_count": 7,
   "metadata": {},
   "outputs": [],
   "source": [
    "mlb = MultiLabelBinarizer(classes=(\"anger\",\"anticipation\",\"disgust\",\"fear\",\"joy\",\"sad\",\"surprise\",\"trust\"))\n",
    "y_enc = mlb.fit_transform(y_train[\"classes\"])\n",
    "ytest_enc=mlb.fit_transform(y_test[\"classes\"])"
   ]
  },
  {
   "cell_type": "code",
   "execution_count": 8,
   "metadata": {},
   "outputs": [
    {
     "name": "stdout",
     "output_type": "stream",
     "text": [
      "val scores {'fit_time': array([0.03124881, 0.03124046, 0.0312407 , 0.03124452, 0.03124475,\n",
      "       0.03124237, 0.03124356, 0.01562166, 0.0312469 , 0.03123927]), 'score_time': array([0.01561546, 0.        , 0.01562166, 0.        , 0.01562095,\n",
      "       0.        , 0.01562428, 0.01562357, 0.        , 0.01562905]), 'test_score': array([0.14873604, 0.14697237, 0.1228689 , 0.13521458, 0.14814815,\n",
      "       0.12933568, 0.14050558, 0.16284539, 0.14873604, 0.14756026]), 'train_score': array([0.15913913, 0.1545923 , 0.13882995, 0.13458624, 0.15428918,\n",
      "       0.1285238 , 0.15610791, 0.16065474, 0.15792664, 0.15519855])}\n",
      "score 0.41133333333333333\n",
      "NB jaccard_score (samples): 0.41133333333333333\n",
      "NB jaccard_score (micro): 0.3753923414940364\n",
      "NB jaccard_score (macro): 0.3241568485291261\n"
     ]
    }
   ],
   "source": [
    "from skmultilearn.problem_transform import BinaryRelevance\n",
    "from sklearn.naive_bayes import GaussianNB \n",
    "from sklearn.neighbors import KNeighborsClassifier\n",
    "from sklearn.svm import SVC\n",
    "from sklearn.model_selection import cross_validate\n",
    "from sklearn.model_selection import ShuffleSplit\n",
    "\n",
    "cv = ShuffleSplit( n_splits=10, test_size=0.34, random_state=0)\n",
    "Gnb = BinaryRelevance(classifier = GaussianNB())\n",
    "scores= cross_validate(Gnb, x_train, y_enc, cv=cv, return_train_score=True)\n",
    "print(\"val scores\",scores)\n",
    "Gnb.fit(x_train,y_enc)\n",
    "Gnb_pred=Gnb.predict(x_test)\n",
    "score=hamming_score(ytest_enc,Gnb_pred.toarray())\n",
    "#loss=hamming_loss(ytest_enc,Gnb_pred.toarray())\n",
    "print(\"score\",score)\n",
    "print(\"NB jaccard_score (samples):\",jaccard_score(ytest_enc,Gnb_pred.toarray(),average=\"samples\"))\n",
    "print(\"NB jaccard_score (micro):\",jaccard_score(ytest_enc,Gnb_pred.toarray(),average=\"micro\"))\n",
    "print(\"NB jaccard_score (macro):\",jaccard_score(ytest_enc,Gnb_pred.toarray(),average=\"macro\"))"
   ]
  },
  {
   "cell_type": "code",
   "execution_count": 9,
   "metadata": {},
   "outputs": [
    {
     "name": "stdout",
     "output_type": "stream",
     "text": [
      "val scores {'fit_time': array([11.16957569, 11.20655346, 11.32495856, 11.96864724, 11.38519716,\n",
      "       11.17630935, 12.05777287, 12.97664595, 13.92773581, 11.4217577 ]), 'score_time': array([0.71857977, 0.73419952, 0.73369455, 0.79668403, 0.71857762,\n",
      "       0.74981833, 0.77527142, 1.0109098 , 0.76542687, 0.73419118]), 'test_score': array([0.39506173, 0.40152851, 0.3909465 , 0.39976484, 0.40858319,\n",
      "       0.40505585, 0.39447384, 0.41269841, 0.39153439, 0.39741329]), 'train_score': array([0.43831464, 0.43346469, 0.43467717, 0.43134283, 0.42346166,\n",
      "       0.43346469, 0.4349803 , 0.43528342, 0.43103971, 0.42800849])}\n",
      "score 0.4609833333333333\n",
      "svm jaccard_score (samples): 0.4609833333333333\n",
      "svm jaccard_score (micro): 0.39615040286481645\n",
      "svm jaccard_score (macro): 0.2712379678401869\n"
     ]
    }
   ],
   "source": [
    "svm = BinaryRelevance(classifier = SVC(probability=True))\n",
    "scores= cross_validate(svm, x_train, y_enc, cv=cv, return_train_score=True)\n",
    "print(\"val scores\",scores)\n",
    "svm.fit(x_train,y_enc)\n",
    "svm_pred = svm.predict(x_test)\n",
    "score=hamming_score(ytest_enc,svm_pred.toarray())\n",
    "#loss=hamming_loss(ytest_enc,y_pred.toarray())\n",
    "print(\"score\",score)\n",
    "print(\"svm jaccard_score (samples):\",jaccard_score(ytest_enc,svm_pred.toarray(),average=\"samples\"))\n",
    "print(\"svm jaccard_score (micro):\",jaccard_score(ytest_enc,svm_pred.toarray(),average=\"micro\"))\n",
    "print(\"svm jaccard_score (macro):\",jaccard_score(ytest_enc,svm_pred.toarray(),average=\"macro\"))"
   ]
  },
  {
   "cell_type": "code",
   "execution_count": 10,
   "metadata": {},
   "outputs": [
    {
     "name": "stdout",
     "output_type": "stream",
     "text": [
      "val scores {'fit_time': array([0.22413206, 0.23431778, 0.21869612, 0.21869946, 0.21869969,\n",
      "       0.21867347, 0.24997377, 0.21869779, 0.21870637, 0.23431969]), 'score_time': array([2.69725966, 2.70249462, 2.81183481, 2.65562582, 2.65562248,\n",
      "       2.80931067, 2.81183791, 2.72474527, 2.6555953 , 2.65560555]), 'test_score': array([0.27630805, 0.29982363, 0.28689006, 0.27748383, 0.28453851,\n",
      "       0.29864785, 0.29276896, 0.2904174 , 0.28101117, 0.28042328]), 'train_score': array([0.4186117 , 0.40375871, 0.41376175, 0.39618066, 0.40830555,\n",
      "       0.40739618, 0.4049712 , 0.39648378, 0.41103365, 0.40709306])}\n",
      "score 0.43466666666666665\n",
      "knn jaccard_score (samples): 0.43466666666666665\n",
      "knn jaccard_score (micro): 0.36744560838033846\n",
      "knn jaccard_score (macro): 0.25886839520576077\n"
     ]
    }
   ],
   "source": [
    "knn = BinaryRelevance(classifier = KNeighborsClassifier())\n",
    "scores= cross_validate(knn, x_train, y_enc, cv=cv, return_train_score=True)\n",
    "print(\"val scores\",scores)\n",
    "knn.fit(x_train,y_enc)\n",
    "knn_pred = knn.predict(x_test)\n",
    "score=hamming_score(ytest_enc,knn_pred.toarray())\n",
    "#loss=hamming_loss(ytest_enc,y_pred.toarray())\n",
    "print(\"score\",score)\n",
    "print(\"knn jaccard_score (samples):\",jaccard_score(ytest_enc,knn_pred.toarray(),average=\"samples\"))\n",
    "print(\"knn jaccard_score (micro):\",jaccard_score(ytest_enc,knn_pred.toarray(),average=\"micro\"))\n",
    "print(\"knn jaccard_score (macro):\",jaccard_score(ytest_enc,knn_pred.toarray(),average=\"macro\"))"
   ]
  },
  {
   "cell_type": "code",
   "execution_count": 11,
   "metadata": {},
   "outputs": [
    {
     "name": "stdout",
     "output_type": "stream",
     "text": [
      "val scores {'fit_time': array([16.86041856, 16.42988515, 16.01185727, 16.46800232, 16.65230894,\n",
      "       14.80206656, 16.94992089, 15.35387778, 16.78253675, 15.73334718]), 'score_time': array([0.03120875, 0.03121018, 0.03121853, 0.03118348, 0.03121042,\n",
      "       0.03120923, 0.03120303, 0.03120852, 0.03120399, 0.03120971]), 'test_score': array([0.33921223, 0.33274544, 0.33392122, 0.34803057, 0.35155791,\n",
      "       0.34685479, 0.34861846, 0.35861258, 0.35508524, 0.3462669 ]), 'train_score': array([0.35768415, 0.36071537, 0.35677478, 0.36041225, 0.35465293,\n",
      "       0.35344044, 0.35495605, 0.3461655 , 0.35586541, 0.35283419])}\n",
      "score 0.44389999999999996\n",
      "mlp jaccard_score (samples): 0.44389999999999996\n",
      "mlp jaccard_score (micro): 0.3949579831932773\n",
      "mlp jaccard_score (macro): 0.2701534078118012\n"
     ]
    }
   ],
   "source": [
    "from sklearn.neural_network import MLPClassifier\n",
    "mlp = BinaryRelevance(classifier =MLPClassifier(solver='sgd', alpha=1e-5, hidden_layer_sizes=(30,25,15), random_state=1))\n",
    "scores= cross_validate(mlp, x_train, y_enc, cv=cv, return_train_score=True)\n",
    "print(\"val scores\",scores)\n",
    "mlp.fit(x_train,y_enc)\n",
    "mlp_pred = mlp.predict(x_test)\n",
    "score=hamming_score(ytest_enc,mlp_pred.toarray())\n",
    "#loss=hamming_loss(ytest_enc,y_pred.toarray())\n",
    "print(\"score\",score)\n",
    "print(\"mlp jaccard_score (samples):\",jaccard_score(ytest_enc,mlp_pred.toarray(),average=\"samples\"))\n",
    "print(\"mlp jaccard_score (micro):\",jaccard_score(ytest_enc,mlp_pred.toarray(),average=\"micro\"))\n",
    "print(\"mlp jaccard_score (macro):\",jaccard_score(ytest_enc,mlp_pred.toarray(),average=\"macro\"))"
   ]
  },
  {
   "cell_type": "code",
   "execution_count": 12,
   "metadata": {},
   "outputs": [
    {
     "name": "stdout",
     "output_type": "stream",
     "text": [
      "Epoch 1/70\n",
      "WARNING:tensorflow:Model was constructed with shape (None, 5000, 43) for input Tensor(\"dense_input:0\", shape=(None, 5000, 43), dtype=float32), but it was called on an input with incompatible shape (None, 43).\n",
      "WARNING:tensorflow:Model was constructed with shape (None, 5000, 43) for input Tensor(\"dense_input:0\", shape=(None, 5000, 43), dtype=float32), but it was called on an input with incompatible shape (None, 43).\n",
      " 1/33 [..............................] - ETA: 0s - loss: 0.6988 - categorical_accuracy: 0.0600WARNING:tensorflow:Model was constructed with shape (None, 5000, 43) for input Tensor(\"dense_input:0\", shape=(None, 5000, 43), dtype=float32), but it was called on an input with incompatible shape (None, 43).\n",
      "33/33 [==============================] - 0s 6ms/step - loss: 0.6719 - categorical_accuracy: 0.1791 - val_loss: 0.6364 - val_categorical_accuracy: 0.1370\n",
      "Epoch 2/70\n",
      "33/33 [==============================] - 0s 2ms/step - loss: 0.5961 - categorical_accuracy: 0.1507 - val_loss: 0.5690 - val_categorical_accuracy: 0.1370\n",
      "Epoch 3/70\n",
      "33/33 [==============================] - 0s 2ms/step - loss: 0.5426 - categorical_accuracy: 0.1507 - val_loss: 0.5283 - val_categorical_accuracy: 0.1370\n",
      "Epoch 4/70\n",
      "33/33 [==============================] - 0s 2ms/step - loss: 0.5062 - categorical_accuracy: 0.1534 - val_loss: 0.4979 - val_categorical_accuracy: 0.2357\n",
      "Epoch 5/70\n",
      "33/33 [==============================] - 0s 2ms/step - loss: 0.4820 - categorical_accuracy: 0.4877 - val_loss: 0.4742 - val_categorical_accuracy: 0.6167\n",
      "Epoch 6/70\n",
      "33/33 [==============================] - 0s 2ms/step - loss: 0.4559 - categorical_accuracy: 0.5917 - val_loss: 0.4416 - val_categorical_accuracy: 0.6314\n",
      "Epoch 7/70\n",
      "33/33 [==============================] - 0s 2ms/step - loss: 0.4261 - categorical_accuracy: 0.5968 - val_loss: 0.4144 - val_categorical_accuracy: 0.6149\n",
      "Epoch 8/70\n",
      "33/33 [==============================] - 0s 2ms/step - loss: 0.4036 - categorical_accuracy: 0.5884 - val_loss: 0.3968 - val_categorical_accuracy: 0.6296\n",
      "Epoch 9/70\n",
      "33/33 [==============================] - 0s 2ms/step - loss: 0.3876 - categorical_accuracy: 0.6078 - val_loss: 0.3827 - val_categorical_accuracy: 0.6114\n",
      "Epoch 10/70\n",
      "33/33 [==============================] - 0s 2ms/step - loss: 0.3773 - categorical_accuracy: 0.6108 - val_loss: 0.3717 - val_categorical_accuracy: 0.6432\n",
      "Epoch 11/70\n",
      "33/33 [==============================] - ETA: 0s - loss: 0.3619 - categorical_accuracy: 0.70 - 0s 2ms/step - loss: 0.3669 - categorical_accuracy: 0.6344 - val_loss: 0.3607 - val_categorical_accuracy: 0.6508\n",
      "Epoch 12/70\n",
      "33/33 [==============================] - 0s 2ms/step - loss: 0.3567 - categorical_accuracy: 0.6544 - val_loss: 0.3545 - val_categorical_accuracy: 0.6708\n",
      "Epoch 13/70\n",
      "33/33 [==============================] - 0s 2ms/step - loss: 0.3492 - categorical_accuracy: 0.6729 - val_loss: 0.3468 - val_categorical_accuracy: 0.6937\n",
      "Epoch 14/70\n",
      "33/33 [==============================] - 0s 2ms/step - loss: 0.3423 - categorical_accuracy: 0.6884 - val_loss: 0.3406 - val_categorical_accuracy: 0.6649\n",
      "Epoch 15/70\n",
      "33/33 [==============================] - 0s 2ms/step - loss: 0.3378 - categorical_accuracy: 0.6917 - val_loss: 0.3404 - val_categorical_accuracy: 0.6761\n",
      "Epoch 16/70\n",
      "33/33 [==============================] - 0s 2ms/step - loss: 0.3334 - categorical_accuracy: 0.6963 - val_loss: 0.3342 - val_categorical_accuracy: 0.7084\n",
      "Epoch 17/70\n",
      "33/33 [==============================] - 0s 2ms/step - loss: 0.3292 - categorical_accuracy: 0.6999 - val_loss: 0.3295 - val_categorical_accuracy: 0.7108\n",
      "Epoch 18/70\n",
      "33/33 [==============================] - 0s 2ms/step - loss: 0.3252 - categorical_accuracy: 0.7148 - val_loss: 0.3268 - val_categorical_accuracy: 0.7113\n",
      "Epoch 19/70\n",
      "33/33 [==============================] - 0s 2ms/step - loss: 0.3219 - categorical_accuracy: 0.7181 - val_loss: 0.3273 - val_categorical_accuracy: 0.6861\n",
      "Epoch 20/70\n",
      "33/33 [==============================] - 0s 2ms/step - loss: 0.3199 - categorical_accuracy: 0.7175 - val_loss: 0.3220 - val_categorical_accuracy: 0.7313\n",
      "Epoch 21/70\n",
      "33/33 [==============================] - 0s 2ms/step - loss: 0.3174 - categorical_accuracy: 0.7166 - val_loss: 0.3246 - val_categorical_accuracy: 0.7225\n",
      "Epoch 22/70\n",
      "33/33 [==============================] - 0s 2ms/step - loss: 0.3161 - categorical_accuracy: 0.7354 - val_loss: 0.3190 - val_categorical_accuracy: 0.7307\n",
      "Epoch 23/70\n",
      "33/33 [==============================] - 0s 2ms/step - loss: 0.3141 - categorical_accuracy: 0.7199 - val_loss: 0.3183 - val_categorical_accuracy: 0.7278\n",
      "Epoch 24/70\n",
      "33/33 [==============================] - 0s 2ms/step - loss: 0.3113 - categorical_accuracy: 0.7281 - val_loss: 0.3171 - val_categorical_accuracy: 0.7008\n",
      "Epoch 25/70\n",
      "33/33 [==============================] - 0s 2ms/step - loss: 0.3098 - categorical_accuracy: 0.7326 - val_loss: 0.3205 - val_categorical_accuracy: 0.7202\n",
      "Epoch 26/70\n",
      "33/33 [==============================] - 0s 2ms/step - loss: 0.3085 - categorical_accuracy: 0.7269 - val_loss: 0.3131 - val_categorical_accuracy: 0.7372\n",
      "Epoch 27/70\n",
      "33/33 [==============================] - 0s 2ms/step - loss: 0.3075 - categorical_accuracy: 0.7275 - val_loss: 0.3117 - val_categorical_accuracy: 0.7184\n",
      "Epoch 28/70\n",
      "33/33 [==============================] - 0s 2ms/step - loss: 0.3054 - categorical_accuracy: 0.7299 - val_loss: 0.3129 - val_categorical_accuracy: 0.7184\n",
      "Epoch 29/70\n",
      "33/33 [==============================] - 0s 2ms/step - loss: 0.3041 - categorical_accuracy: 0.7305 - val_loss: 0.3095 - val_categorical_accuracy: 0.7178\n",
      "Epoch 30/70\n",
      "33/33 [==============================] - 0s 2ms/step - loss: 0.3029 - categorical_accuracy: 0.7348 - val_loss: 0.3084 - val_categorical_accuracy: 0.7178\n",
      "Epoch 31/70\n",
      "33/33 [==============================] - 0s 2ms/step - loss: 0.3004 - categorical_accuracy: 0.7357 - val_loss: 0.3091 - val_categorical_accuracy: 0.7225\n",
      "Epoch 32/70\n",
      "33/33 [==============================] - 0s 2ms/step - loss: 0.2987 - categorical_accuracy: 0.7378 - val_loss: 0.3068 - val_categorical_accuracy: 0.7243\n",
      "Epoch 33/70\n",
      "33/33 [==============================] - 0s 2ms/step - loss: 0.2975 - categorical_accuracy: 0.7375 - val_loss: 0.3056 - val_categorical_accuracy: 0.7372\n",
      "Epoch 34/70\n",
      "33/33 [==============================] - 0s 2ms/step - loss: 0.2963 - categorical_accuracy: 0.7320 - val_loss: 0.3059 - val_categorical_accuracy: 0.7402\n",
      "Epoch 35/70\n",
      "33/33 [==============================] - 0s 2ms/step - loss: 0.2958 - categorical_accuracy: 0.7396 - val_loss: 0.3043 - val_categorical_accuracy: 0.7090\n",
      "Epoch 36/70\n",
      "33/33 [==============================] - 0s 2ms/step - loss: 0.2936 - categorical_accuracy: 0.7378 - val_loss: 0.3033 - val_categorical_accuracy: 0.7249\n",
      "Epoch 37/70\n",
      "33/33 [==============================] - 0s 2ms/step - loss: 0.2929 - categorical_accuracy: 0.7396 - val_loss: 0.3044 - val_categorical_accuracy: 0.7055\n",
      "Epoch 38/70\n",
      "33/33 [==============================] - 0s 2ms/step - loss: 0.2916 - categorical_accuracy: 0.7390 - val_loss: 0.3019 - val_categorical_accuracy: 0.7219\n",
      "Epoch 39/70\n",
      "33/33 [==============================] - 0s 2ms/step - loss: 0.2914 - categorical_accuracy: 0.7423 - val_loss: 0.3021 - val_categorical_accuracy: 0.7049\n",
      "Epoch 40/70\n",
      "33/33 [==============================] - ETA: 0s - loss: 0.3084 - categorical_accuracy: 0.67 - 0s 2ms/step - loss: 0.2897 - categorical_accuracy: 0.7396 - val_loss: 0.3018 - val_categorical_accuracy: 0.7443\n",
      "Epoch 41/70\n",
      "33/33 [==============================] - 0s 2ms/step - loss: 0.2883 - categorical_accuracy: 0.7348 - val_loss: 0.3003 - val_categorical_accuracy: 0.7378\n",
      "Epoch 42/70\n",
      "33/33 [==============================] - 0s 2ms/step - loss: 0.2869 - categorical_accuracy: 0.7387 - val_loss: 0.2986 - val_categorical_accuracy: 0.7213\n",
      "Epoch 43/70\n",
      "33/33 [==============================] - 0s 2ms/step - loss: 0.2865 - categorical_accuracy: 0.7469 - val_loss: 0.2993 - val_categorical_accuracy: 0.7184\n",
      "Epoch 44/70\n",
      "33/33 [==============================] - 0s 2ms/step - loss: 0.2855 - categorical_accuracy: 0.7469 - val_loss: 0.2995 - val_categorical_accuracy: 0.7055\n",
      "Epoch 45/70\n",
      "33/33 [==============================] - 0s 2ms/step - loss: 0.2853 - categorical_accuracy: 0.7396 - val_loss: 0.2969 - val_categorical_accuracy: 0.7272\n"
     ]
    },
    {
     "name": "stdout",
     "output_type": "stream",
     "text": [
      "Epoch 46/70\n",
      "33/33 [==============================] - 0s 3ms/step - loss: 0.2829 - categorical_accuracy: 0.7460 - val_loss: 0.2970 - val_categorical_accuracy: 0.7113\n",
      "Epoch 47/70\n",
      "33/33 [==============================] - 0s 2ms/step - loss: 0.2825 - categorical_accuracy: 0.7433 - val_loss: 0.2975 - val_categorical_accuracy: 0.7184\n",
      "Epoch 48/70\n",
      "33/33 [==============================] - 0s 2ms/step - loss: 0.2818 - categorical_accuracy: 0.7490 - val_loss: 0.3000 - val_categorical_accuracy: 0.6972\n",
      "Epoch 49/70\n",
      "33/33 [==============================] - 0s 2ms/step - loss: 0.2815 - categorical_accuracy: 0.7445 - val_loss: 0.2974 - val_categorical_accuracy: 0.7090\n",
      "Epoch 50/70\n",
      "33/33 [==============================] - 0s 1ms/step - loss: 0.2800 - categorical_accuracy: 0.7433 - val_loss: 0.2970 - val_categorical_accuracy: 0.7043\n",
      "Epoch 51/70\n",
      "33/33 [==============================] - 0s 2ms/step - loss: 0.2806 - categorical_accuracy: 0.7414 - val_loss: 0.2937 - val_categorical_accuracy: 0.7125\n",
      "Epoch 52/70\n",
      "33/33 [==============================] - 0s 1ms/step - loss: 0.2795 - categorical_accuracy: 0.7533 - val_loss: 0.2979 - val_categorical_accuracy: 0.6996\n",
      "Epoch 53/70\n",
      "33/33 [==============================] - 0s 2ms/step - loss: 0.2780 - categorical_accuracy: 0.7423 - val_loss: 0.2938 - val_categorical_accuracy: 0.7366\n",
      "Epoch 54/70\n",
      "33/33 [==============================] - 0s 2ms/step - loss: 0.2765 - categorical_accuracy: 0.7475 - val_loss: 0.2931 - val_categorical_accuracy: 0.7278\n",
      "Epoch 55/70\n",
      "33/33 [==============================] - 0s 2ms/step - loss: 0.2763 - categorical_accuracy: 0.7469 - val_loss: 0.2918 - val_categorical_accuracy: 0.7084\n",
      "Epoch 56/70\n",
      "33/33 [==============================] - 0s 2ms/step - loss: 0.2757 - categorical_accuracy: 0.7511 - val_loss: 0.2956 - val_categorical_accuracy: 0.7219\n",
      "Epoch 57/70\n",
      "33/33 [==============================] - 0s 2ms/step - loss: 0.2753 - categorical_accuracy: 0.7384 - val_loss: 0.2915 - val_categorical_accuracy: 0.7290\n",
      "Epoch 58/70\n",
      "33/33 [==============================] - 0s 1ms/step - loss: 0.2753 - categorical_accuracy: 0.7466 - val_loss: 0.2916 - val_categorical_accuracy: 0.7072\n",
      "Epoch 59/70\n",
      "33/33 [==============================] - 0s 2ms/step - loss: 0.2729 - categorical_accuracy: 0.7466 - val_loss: 0.2909 - val_categorical_accuracy: 0.7043\n",
      "Epoch 60/70\n",
      "33/33 [==============================] - 0s 2ms/step - loss: 0.2727 - categorical_accuracy: 0.7493 - val_loss: 0.2929 - val_categorical_accuracy: 0.6914\n",
      "Epoch 61/70\n",
      "33/33 [==============================] - 0s 2ms/step - loss: 0.2719 - categorical_accuracy: 0.7420 - val_loss: 0.2900 - val_categorical_accuracy: 0.7178\n",
      "Epoch 62/70\n",
      "33/33 [==============================] - 0s 2ms/step - loss: 0.2719 - categorical_accuracy: 0.7493 - val_loss: 0.2910 - val_categorical_accuracy: 0.7031\n",
      "Epoch 63/70\n",
      "33/33 [==============================] - 0s 2ms/step - loss: 0.2705 - categorical_accuracy: 0.7417 - val_loss: 0.2897 - val_categorical_accuracy: 0.7025\n",
      "Epoch 64/70\n",
      "33/33 [==============================] - 0s 2ms/step - loss: 0.2694 - categorical_accuracy: 0.7502 - val_loss: 0.2892 - val_categorical_accuracy: 0.7155\n",
      "Epoch 65/70\n",
      "33/33 [==============================] - 0s 1ms/step - loss: 0.2697 - categorical_accuracy: 0.7469 - val_loss: 0.2891 - val_categorical_accuracy: 0.7119\n",
      "Epoch 66/70\n",
      "33/33 [==============================] - 0s 2ms/step - loss: 0.2684 - categorical_accuracy: 0.7502 - val_loss: 0.2924 - val_categorical_accuracy: 0.7137\n",
      "Epoch 67/70\n",
      "33/33 [==============================] - 0s 2ms/step - loss: 0.2691 - categorical_accuracy: 0.7433 - val_loss: 0.2886 - val_categorical_accuracy: 0.7407\n",
      "Epoch 68/70\n",
      "33/33 [==============================] - 0s 2ms/step - loss: 0.2679 - categorical_accuracy: 0.7493 - val_loss: 0.2868 - val_categorical_accuracy: 0.7149\n",
      "Epoch 69/70\n",
      "33/33 [==============================] - 0s 1ms/step - loss: 0.2681 - categorical_accuracy: 0.7475 - val_loss: 0.2873 - val_categorical_accuracy: 0.7278\n",
      "Epoch 70/70\n",
      "33/33 [==============================] - 0s 2ms/step - loss: 0.2683 - categorical_accuracy: 0.7448 - val_loss: 0.2869 - val_categorical_accuracy: 0.7196\n",
      "WARNING:tensorflow:From <ipython-input-12-99e9849652fe>:13: Sequential.predict_proba (from tensorflow.python.keras.engine.sequential) is deprecated and will be removed after 2021-01-01.\n",
      "Instructions for updating:\n",
      "Please use `model.predict()` instead.\n",
      "WARNING:tensorflow:Model was constructed with shape (None, 5000, 43) for input Tensor(\"dense_input:0\", shape=(None, 5000, 43), dtype=float32), but it was called on an input with incompatible shape (None, 43).\n",
      "classification_report:               precision    recall  f1-score   support\n",
      "\n",
      "           0       0.76      0.60      0.67       399\n",
      "           1       0.79      0.66      0.72       368\n",
      "           2       0.62      0.47      0.54       313\n",
      "           3       0.25      0.02      0.04       152\n",
      "           4       0.73      0.48      0.58       201\n",
      "           5       0.72      0.56      0.63       401\n",
      "           6       1.00      0.02      0.03        59\n",
      "           7       0.00      0.00      0.00        53\n",
      "\n",
      "   micro avg       0.72      0.49      0.59      1946\n",
      "   macro avg       0.61      0.35      0.40      1946\n",
      "weighted avg       0.68      0.49      0.55      1946\n",
      " samples avg       0.65      0.54      0.56      1946\n",
      "\n",
      "hamming_score: 0.4923666666666667\n",
      "hamming_loss: tf.Tensor(21.775883, shape=(), dtype=float32)\n",
      "DeepMLP jaccard_score (samples): 0.4923666666666667\n",
      "DeepMLP jaccard_score (micro): 0.4136737343141497\n",
      "DeepMLP jaccard_score (macro): 0.2917122720043995\n"
     ]
    }
   ],
   "source": [
    "n_timesteps,n_features=x_train.shape[0],x_train.shape[1]\n",
    "import tensorflow as tf\n",
    "from tensorflow.keras import datasets, layers, models\n",
    "model = models.Sequential()\n",
    "model.add(layers.Dense(48,activation=\"relu\",input_shape=(n_timesteps,n_features)))\n",
    "model.add(layers.Dense(32,activation=\"relu\"))\n",
    "model.add(layers.Dense(16, activation='relu'))\n",
    "model.add(layers.Dense(8, activation='sigmoid'))\n",
    "model.compile(optimizer='adam',\n",
    "              loss=tf.keras.losses.binary_crossentropy,\n",
    "              metrics=['categorical_accuracy'])\n",
    "model.fit(x_train,y_enc, batch_size=100,epochs=70,validation_split=0.34)\n",
    "model_ypred_prob=model.predict_proba(x_test)\n",
    "model_ypred=model_ypred_prob\n",
    "model_ypred[model_ypred >=0.5]=1\n",
    "model_ypred[model_ypred <0.5]=0\n",
    "#model.evaluate(x_train_y_train)\n",
    "print(\"classification_report:\",classification_report(ytest_enc,model_ypred))\n",
    "print(\"hamming_score:\",hamming_score(ytest_enc,model_ypred))\n",
    "print(\"hamming_loss:\",hamming_loss(ytest_enc,model_ypred))\n",
    "print(\"DeepMLP jaccard_score (samples):\",jaccard_score(ytest_enc,model_ypred,average=\"samples\"))\n",
    "print(\"DeepMLP jaccard_score (micro):\",jaccard_score(ytest_enc,model_ypred,average=\"micro\"))\n",
    "print(\"DeepMLP jaccard_score (macro):\",jaccard_score(ytest_enc,model_ypred,average=\"macro\"))"
   ]
  },
  {
   "cell_type": "code",
   "execution_count": 13,
   "metadata": {},
   "outputs": [
    {
     "name": "stdout",
     "output_type": "stream",
     "text": [
      "Model: \"sequential\"\n",
      "_________________________________________________________________\n",
      "Layer (type)                 Output Shape              Param #   \n",
      "=================================================================\n",
      "dense (Dense)                (None, 5000, 48)          2112      \n",
      "_________________________________________________________________\n",
      "dense_1 (Dense)              (None, 5000, 32)          1568      \n",
      "_________________________________________________________________\n",
      "dense_2 (Dense)              (None, 5000, 16)          528       \n",
      "_________________________________________________________________\n",
      "dense_3 (Dense)              (None, 5000, 8)           136       \n",
      "=================================================================\n",
      "Total params: 4,344\n",
      "Trainable params: 4,344\n",
      "Non-trainable params: 0\n",
      "_________________________________________________________________\n"
     ]
    }
   ],
   "source": [
    "model.summary()"
   ]
  },
  {
   "cell_type": "code",
   "execution_count": 14,
   "metadata": {},
   "outputs": [],
   "source": [
    "x_train=np.expand_dims(x_train,axis=2)\n",
    "x_test=np.expand_dims(x_test,axis=2)"
   ]
  },
  {
   "cell_type": "code",
   "execution_count": 15,
   "metadata": {},
   "outputs": [
    {
     "name": "stdout",
     "output_type": "stream",
     "text": [
      "Epoch 1/70\n",
      "33/33 [==============================] - 0s 5ms/step - loss: 0.6582 - categorical_accuracy: 0.3116 - val_loss: 0.6061 - val_categorical_accuracy: 0.3898\n",
      "Epoch 2/70\n",
      "33/33 [==============================] - 0s 3ms/step - loss: 0.5464 - categorical_accuracy: 0.3998 - val_loss: 0.5083 - val_categorical_accuracy: 0.5044\n",
      "Epoch 3/70\n",
      "33/33 [==============================] - 0s 3ms/step - loss: 0.4907 - categorical_accuracy: 0.3362 - val_loss: 0.4882 - val_categorical_accuracy: 0.3821\n",
      "Epoch 4/70\n",
      "33/33 [==============================] - 0s 3ms/step - loss: 0.4819 - categorical_accuracy: 0.4908 - val_loss: 0.4824 - val_categorical_accuracy: 0.5732\n",
      "Epoch 5/70\n",
      "33/33 [==============================] - 0s 3ms/step - loss: 0.4757 - categorical_accuracy: 0.4110 - val_loss: 0.4755 - val_categorical_accuracy: 0.5561\n",
      "Epoch 6/70\n",
      "33/33 [==============================] - 0s 3ms/step - loss: 0.4685 - categorical_accuracy: 0.5296 - val_loss: 0.4681 - val_categorical_accuracy: 0.5485\n",
      "Epoch 7/70\n",
      "33/33 [==============================] - 0s 3ms/step - loss: 0.4606 - categorical_accuracy: 0.5347 - val_loss: 0.4595 - val_categorical_accuracy: 0.5879\n",
      "Epoch 8/70\n",
      "33/33 [==============================] - 0s 3ms/step - loss: 0.4518 - categorical_accuracy: 0.5438 - val_loss: 0.4505 - val_categorical_accuracy: 0.5509\n",
      "Epoch 9/70\n",
      "33/33 [==============================] - 0s 3ms/step - loss: 0.4432 - categorical_accuracy: 0.4944 - val_loss: 0.4420 - val_categorical_accuracy: 0.5785\n",
      "Epoch 10/70\n",
      "33/33 [==============================] - 0s 3ms/step - loss: 0.4344 - categorical_accuracy: 0.5868 - val_loss: 0.4338 - val_categorical_accuracy: 0.5550\n",
      "Epoch 11/70\n",
      "33/33 [==============================] - 0s 3ms/step - loss: 0.4269 - categorical_accuracy: 0.5462 - val_loss: 0.4262 - val_categorical_accuracy: 0.5861\n",
      "Epoch 12/70\n",
      "33/33 [==============================] - 0s 3ms/step - loss: 0.4196 - categorical_accuracy: 0.5444 - val_loss: 0.4200 - val_categorical_accuracy: 0.5844\n",
      "Epoch 13/70\n",
      "33/33 [==============================] - 0s 3ms/step - loss: 0.4141 - categorical_accuracy: 0.5720 - val_loss: 0.4143 - val_categorical_accuracy: 0.5949\n",
      "Epoch 14/70\n",
      "33/33 [==============================] - 0s 3ms/step - loss: 0.4084 - categorical_accuracy: 0.6026 - val_loss: 0.4094 - val_categorical_accuracy: 0.4991\n",
      "Epoch 15/70\n",
      "33/33 [==============================] - 0s 3ms/step - loss: 0.4038 - categorical_accuracy: 0.5393 - val_loss: 0.4066 - val_categorical_accuracy: 0.5091\n",
      "Epoch 16/70\n",
      "33/33 [==============================] - 0s 3ms/step - loss: 0.3997 - categorical_accuracy: 0.5771 - val_loss: 0.4016 - val_categorical_accuracy: 0.5644\n",
      "Epoch 17/70\n",
      "33/33 [==============================] - 0s 3ms/step - loss: 0.3953 - categorical_accuracy: 0.6072 - val_loss: 0.3978 - val_categorical_accuracy: 0.5173\n",
      "Epoch 18/70\n",
      "33/33 [==============================] - 0s 3ms/step - loss: 0.3911 - categorical_accuracy: 0.5544 - val_loss: 0.3935 - val_categorical_accuracy: 0.5897\n",
      "Epoch 19/70\n",
      "33/33 [==============================] - 0s 3ms/step - loss: 0.3871 - categorical_accuracy: 0.6247 - val_loss: 0.3904 - val_categorical_accuracy: 0.5855\n",
      "Epoch 20/70\n",
      "33/33 [==============================] - 0s 3ms/step - loss: 0.3835 - categorical_accuracy: 0.5871 - val_loss: 0.3871 - val_categorical_accuracy: 0.5655\n",
      "Epoch 21/70\n",
      "33/33 [==============================] - 0s 3ms/step - loss: 0.3800 - categorical_accuracy: 0.6050 - val_loss: 0.3841 - val_categorical_accuracy: 0.6238\n",
      "Epoch 22/70\n",
      "33/33 [==============================] - 0s 3ms/step - loss: 0.3770 - categorical_accuracy: 0.6296 - val_loss: 0.3806 - val_categorical_accuracy: 0.5744\n",
      "Epoch 23/70\n",
      "33/33 [==============================] - 0s 3ms/step - loss: 0.3733 - categorical_accuracy: 0.6117 - val_loss: 0.3778 - val_categorical_accuracy: 0.6008\n",
      "Epoch 24/70\n",
      "33/33 [==============================] - 0s 3ms/step - loss: 0.3702 - categorical_accuracy: 0.6344 - val_loss: 0.3757 - val_categorical_accuracy: 0.6044\n",
      "Epoch 25/70\n",
      "33/33 [==============================] - 0s 3ms/step - loss: 0.3680 - categorical_accuracy: 0.6350 - val_loss: 0.3731 - val_categorical_accuracy: 0.5944\n",
      "Epoch 26/70\n",
      "33/33 [==============================] - 0s 3ms/step - loss: 0.3652 - categorical_accuracy: 0.6341 - val_loss: 0.3709 - val_categorical_accuracy: 0.6261\n",
      "Epoch 27/70\n",
      "33/33 [==============================] - 0s 3ms/step - loss: 0.3623 - categorical_accuracy: 0.6305 - val_loss: 0.3676 - val_categorical_accuracy: 0.6508\n",
      "Epoch 28/70\n",
      "33/33 [==============================] - 0s 3ms/step - loss: 0.3599 - categorical_accuracy: 0.6414 - val_loss: 0.3659 - val_categorical_accuracy: 0.6367\n",
      "Epoch 29/70\n",
      "33/33 [==============================] - 0s 3ms/step - loss: 0.3571 - categorical_accuracy: 0.6547 - val_loss: 0.3625 - val_categorical_accuracy: 0.6555\n",
      "Epoch 30/70\n",
      "33/33 [==============================] - 0s 3ms/step - loss: 0.3547 - categorical_accuracy: 0.6411 - val_loss: 0.3605 - val_categorical_accuracy: 0.6755\n",
      "Epoch 31/70\n",
      "33/33 [==============================] - 0s 3ms/step - loss: 0.3525 - categorical_accuracy: 0.6569 - val_loss: 0.3582 - val_categorical_accuracy: 0.6837\n",
      "Epoch 32/70\n",
      "33/33 [==============================] - 0s 3ms/step - loss: 0.3502 - categorical_accuracy: 0.6596 - val_loss: 0.3591 - val_categorical_accuracy: 0.6361\n",
      "Epoch 33/70\n",
      "33/33 [==============================] - 0s 3ms/step - loss: 0.3484 - categorical_accuracy: 0.6563 - val_loss: 0.3547 - val_categorical_accuracy: 0.6708\n",
      "Epoch 34/70\n",
      "33/33 [==============================] - 0s 3ms/step - loss: 0.3461 - categorical_accuracy: 0.6684 - val_loss: 0.3519 - val_categorical_accuracy: 0.6808\n",
      "Epoch 35/70\n",
      "33/33 [==============================] - 0s 3ms/step - loss: 0.3447 - categorical_accuracy: 0.6696 - val_loss: 0.3505 - val_categorical_accuracy: 0.6855\n",
      "Epoch 36/70\n",
      "33/33 [==============================] - 0s 3ms/step - loss: 0.3423 - categorical_accuracy: 0.6747 - val_loss: 0.3489 - val_categorical_accuracy: 0.6690\n",
      "Epoch 37/70\n",
      "33/33 [==============================] - 0s 3ms/step - loss: 0.3403 - categorical_accuracy: 0.6705 - val_loss: 0.3484 - val_categorical_accuracy: 0.6966\n",
      "Epoch 38/70\n",
      "33/33 [==============================] - 0s 3ms/step - loss: 0.3391 - categorical_accuracy: 0.6726 - val_loss: 0.3467 - val_categorical_accuracy: 0.6778\n",
      "Epoch 39/70\n",
      "33/33 [==============================] - 0s 3ms/step - loss: 0.3372 - categorical_accuracy: 0.6893 - val_loss: 0.3452 - val_categorical_accuracy: 0.6784\n",
      "Epoch 40/70\n",
      "33/33 [==============================] - 0s 3ms/step - loss: 0.3356 - categorical_accuracy: 0.6760 - val_loss: 0.3432 - val_categorical_accuracy: 0.6584\n",
      "Epoch 41/70\n",
      "33/33 [==============================] - 0s 3ms/step - loss: 0.3345 - categorical_accuracy: 0.6820 - val_loss: 0.3445 - val_categorical_accuracy: 0.6778\n",
      "Epoch 42/70\n",
      "33/33 [==============================] - 0s 2ms/step - loss: 0.3336 - categorical_accuracy: 0.6632 - val_loss: 0.3403 - val_categorical_accuracy: 0.7031\n",
      "Epoch 43/70\n",
      "33/33 [==============================] - 0s 3ms/step - loss: 0.3318 - categorical_accuracy: 0.6820 - val_loss: 0.3397 - val_categorical_accuracy: 0.6831\n",
      "Epoch 44/70\n",
      "33/33 [==============================] - 0s 3ms/step - loss: 0.3306 - categorical_accuracy: 0.6869 - val_loss: 0.3388 - val_categorical_accuracy: 0.6925\n",
      "Epoch 45/70\n",
      "33/33 [==============================] - 0s 3ms/step - loss: 0.3292 - categorical_accuracy: 0.6896 - val_loss: 0.3374 - val_categorical_accuracy: 0.6867\n",
      "Epoch 46/70\n",
      "33/33 [==============================] - 0s 3ms/step - loss: 0.3284 - categorical_accuracy: 0.6799 - val_loss: 0.3367 - val_categorical_accuracy: 0.6820\n",
      "Epoch 47/70\n",
      "33/33 [==============================] - 0s 3ms/step - loss: 0.3270 - categorical_accuracy: 0.6835 - val_loss: 0.3357 - val_categorical_accuracy: 0.6937\n",
      "Epoch 48/70\n",
      "33/33 [==============================] - 0s 3ms/step - loss: 0.3260 - categorical_accuracy: 0.6826 - val_loss: 0.3345 - val_categorical_accuracy: 0.6978\n",
      "Epoch 49/70\n",
      "33/33 [==============================] - 0s 3ms/step - loss: 0.3254 - categorical_accuracy: 0.6920 - val_loss: 0.3332 - val_categorical_accuracy: 0.7008\n",
      "Epoch 50/70\n",
      "33/33 [==============================] - 0s 3ms/step - loss: 0.3240 - categorical_accuracy: 0.6969 - val_loss: 0.3337 - val_categorical_accuracy: 0.6731\n"
     ]
    },
    {
     "name": "stdout",
     "output_type": "stream",
     "text": [
      "Epoch 51/70\n",
      "33/33 [==============================] - 0s 3ms/step - loss: 0.3231 - categorical_accuracy: 0.6805 - val_loss: 0.3321 - val_categorical_accuracy: 0.7008\n",
      "Epoch 52/70\n",
      "33/33 [==============================] - 0s 2ms/step - loss: 0.3221 - categorical_accuracy: 0.6996 - val_loss: 0.3299 - val_categorical_accuracy: 0.6837\n",
      "Epoch 53/70\n",
      "33/33 [==============================] - 0s 3ms/step - loss: 0.3215 - categorical_accuracy: 0.6832 - val_loss: 0.3300 - val_categorical_accuracy: 0.6767\n",
      "Epoch 54/70\n",
      "33/33 [==============================] - 0s 3ms/step - loss: 0.3199 - categorical_accuracy: 0.6908 - val_loss: 0.3286 - val_categorical_accuracy: 0.6902\n",
      "Epoch 55/70\n",
      "33/33 [==============================] - 0s 3ms/step - loss: 0.3190 - categorical_accuracy: 0.6929 - val_loss: 0.3283 - val_categorical_accuracy: 0.6802\n",
      "Epoch 56/70\n",
      "33/33 [==============================] - 0s 3ms/step - loss: 0.3189 - categorical_accuracy: 0.6960 - val_loss: 0.3294 - val_categorical_accuracy: 0.6778\n",
      "Epoch 57/70\n",
      "33/33 [==============================] - 0s 3ms/step - loss: 0.3171 - categorical_accuracy: 0.6923 - val_loss: 0.3270 - val_categorical_accuracy: 0.6978\n",
      "Epoch 58/70\n",
      "33/33 [==============================] - 0s 3ms/step - loss: 0.3164 - categorical_accuracy: 0.6917 - val_loss: 0.3250 - val_categorical_accuracy: 0.6902\n",
      "Epoch 59/70\n",
      "33/33 [==============================] - 0s 3ms/step - loss: 0.3153 - categorical_accuracy: 0.6996 - val_loss: 0.3251 - val_categorical_accuracy: 0.6914\n",
      "Epoch 60/70\n",
      "33/33 [==============================] - 0s 3ms/step - loss: 0.3147 - categorical_accuracy: 0.6984 - val_loss: 0.3238 - val_categorical_accuracy: 0.6714\n",
      "Epoch 61/70\n",
      "33/33 [==============================] - 0s 3ms/step - loss: 0.3141 - categorical_accuracy: 0.6878 - val_loss: 0.3233 - val_categorical_accuracy: 0.6943\n",
      "Epoch 62/70\n",
      "33/33 [==============================] - 0s 3ms/step - loss: 0.3135 - categorical_accuracy: 0.6981 - val_loss: 0.3227 - val_categorical_accuracy: 0.6937\n",
      "Epoch 63/70\n",
      "33/33 [==============================] - 0s 2ms/step - loss: 0.3126 - categorical_accuracy: 0.6981 - val_loss: 0.3223 - val_categorical_accuracy: 0.6972\n",
      "Epoch 64/70\n",
      "33/33 [==============================] - 0s 3ms/step - loss: 0.3115 - categorical_accuracy: 0.7075 - val_loss: 0.3230 - val_categorical_accuracy: 0.6420\n",
      "Epoch 65/70\n",
      "33/33 [==============================] - 0s 3ms/step - loss: 0.3112 - categorical_accuracy: 0.6902 - val_loss: 0.3202 - val_categorical_accuracy: 0.6884\n",
      "Epoch 66/70\n",
      "33/33 [==============================] - 0s 3ms/step - loss: 0.3099 - categorical_accuracy: 0.7063 - val_loss: 0.3207 - val_categorical_accuracy: 0.6908\n",
      "Epoch 67/70\n",
      "33/33 [==============================] - 0s 3ms/step - loss: 0.3097 - categorical_accuracy: 0.7042 - val_loss: 0.3200 - val_categorical_accuracy: 0.7002\n",
      "Epoch 68/70\n",
      "33/33 [==============================] - 0s 3ms/step - loss: 0.3094 - categorical_accuracy: 0.6887 - val_loss: 0.3194 - val_categorical_accuracy: 0.7002\n",
      "Epoch 69/70\n",
      "33/33 [==============================] - 0s 3ms/step - loss: 0.3079 - categorical_accuracy: 0.7111 - val_loss: 0.3172 - val_categorical_accuracy: 0.6943\n",
      "Epoch 70/70\n",
      "33/33 [==============================] - 0s 3ms/step - loss: 0.3073 - categorical_accuracy: 0.7081 - val_loss: 0.3172 - val_categorical_accuracy: 0.6843\n",
      "classification_report:               precision    recall  f1-score   support\n",
      "\n",
      "           0       0.78      0.62      0.69       399\n",
      "           1       0.79      0.58      0.67       368\n",
      "           2       0.60      0.35      0.44       313\n",
      "           3       1.00      0.01      0.01       152\n",
      "           4       0.76      0.39      0.52       201\n",
      "           5       0.71      0.60      0.65       401\n",
      "           6       1.00      0.02      0.03        59\n",
      "           7       0.00      0.00      0.00        53\n",
      "\n",
      "   micro avg       0.73      0.46      0.56      1946\n",
      "   macro avg       0.70      0.32      0.38      1946\n",
      "weighted avg       0.74      0.46      0.53      1946\n",
      " samples avg       0.59      0.49      0.51      1946\n",
      "\n",
      "hamming_score: 0.44715\n",
      "hamming_loss: tf.Tensor(22.169918, shape=(), dtype=float32)\n",
      "accuracy_score: 0.26\n",
      "cnn jaccard_score (samples): 0.44715\n",
      "cnn jaccard_score (micro): 0.392511013215859\n",
      "cnn jaccard_score (macro): 0.27057495992215486\n"
     ]
    }
   ],
   "source": [
    "n_timesteps,n_features=x_train.shape[1],x_train.shape[2]\n",
    "model2 = models.Sequential()\n",
    "model2.add(layers.Conv1D(filters=5, kernel_size=2, activation='relu', input_shape=(n_timesteps,n_features)))\n",
    "model2.add(layers.AveragePooling1D(pool_size=2))\n",
    "model2.add(layers.Flatten())\n",
    "model2.add(layers.Dense(32, activation='relu'))\n",
    "#model2.add(layers.Dense(16, activation='relu'))\n",
    "model2.add(layers.Dense(8, activation='sigmoid'))\n",
    "model2.compile(optimizer='adam',loss='binary_crossentropy',metrics=['categorical_accuracy'])\n",
    "model2.fit(x_train,y_enc, batch_size=100,epochs=70,validation_split=0.34)\n",
    "\n",
    "model2_ypred_prob=model2.predict_proba(x_test)\n",
    "model2_ypred=model2_ypred_prob\n",
    "model2_ypred[model2_ypred >=0.5]=1\n",
    "model2_ypred[model2_ypred <0.5]=0\n",
    "#model.evaluate(x_train_y_train)\n",
    "print(\"classification_report:\",classification_report(ytest_enc,model2_ypred))\n",
    "print(\"hamming_score:\",hamming_score(ytest_enc,model2_ypred))\n",
    "print(\"hamming_loss:\",hamming_loss(ytest_enc,model2_ypred))\n",
    "print(\"accuracy_score:\",accuracy_score(ytest_enc,model2_ypred))\n",
    "\n",
    "print(\"cnn jaccard_score (samples):\",jaccard_score(ytest_enc,model2_ypred,average=\"samples\"))\n",
    "print(\"cnn jaccard_score (micro):\",jaccard_score(ytest_enc,model2_ypred,average=\"micro\"))\n",
    "print(\"cnn jaccard_score (macro):\",jaccard_score(ytest_enc,model2_ypred,average=\"macro\"))"
   ]
  },
  {
   "cell_type": "code",
   "execution_count": 16,
   "metadata": {},
   "outputs": [
    {
     "name": "stdout",
     "output_type": "stream",
     "text": [
      "Model: \"sequential_1\"\n",
      "_________________________________________________________________\n",
      "Layer (type)                 Output Shape              Param #   \n",
      "=================================================================\n",
      "conv1d (Conv1D)              (None, 42, 5)             15        \n",
      "_________________________________________________________________\n",
      "average_pooling1d (AveragePo (None, 21, 5)             0         \n",
      "_________________________________________________________________\n",
      "flatten (Flatten)            (None, 105)               0         \n",
      "_________________________________________________________________\n",
      "dense_4 (Dense)              (None, 32)                3392      \n",
      "_________________________________________________________________\n",
      "dense_5 (Dense)              (None, 8)                 264       \n",
      "=================================================================\n",
      "Total params: 3,671\n",
      "Trainable params: 3,671\n",
      "Non-trainable params: 0\n",
      "_________________________________________________________________\n"
     ]
    }
   ],
   "source": [
    "model2.summary()"
   ]
  },
  {
   "cell_type": "code",
   "execution_count": 17,
   "metadata": {},
   "outputs": [
    {
     "name": "stdout",
     "output_type": "stream",
     "text": [
      "Averaging ensemble technique hamming score: 0.48164999999999997\n",
      "Average ensemble technique hamming loss: tf.Tensor(21.324241214088964, shape=(), dtype=float64)\n",
      "Average ensemble classification matrix:               precision    recall  f1-score   support\n",
      "\n",
      "           0       0.77      0.63      0.69       399\n",
      "           1       0.82      0.64      0.72       368\n",
      "           2       0.66      0.41      0.51       313\n",
      "           3       0.67      0.01      0.03       152\n",
      "           4       0.75      0.41      0.53       201\n",
      "           5       0.71      0.61      0.66       401\n",
      "           6       1.00      0.03      0.07        59\n",
      "           7       0.00      0.00      0.00        53\n",
      "\n",
      "   micro avg       0.74      0.49      0.59      1946\n",
      "   macro avg       0.67      0.34      0.40      1946\n",
      "weighted avg       0.72      0.49      0.55      1946\n",
      " samples avg       0.63      0.53      0.55      1946\n",
      "\n",
      "average ensemble jaccard_score (samples): 0.48164999999999997\n",
      "average ensemble jaccard_score (micro): 0.41743725231175693\n",
      "average ensemble jaccard_score (macro): 0.29065573930444816\n"
     ]
    }
   ],
   "source": [
    "x_test=np.squeeze(x_test,axis=2)\n",
    "Gnb_pred = Gnb.predict_proba(x_test)\n",
    "svm_pred = svm.predict_proba(x_test)\n",
    "knn_pred = knn.predict_proba(x_test)\n",
    "mlp_pred = mlp.predict_proba(x_test)\n",
    "\n",
    "avg_pred=(Gnb_pred.toarray()+svm_pred.toarray()+knn_pred.toarray()+mlp_pred.toarray()+model_ypred_prob+model2_ypred_prob)/6\n",
    "avg_pred[avg_pred>=0.5]=1\n",
    "avg_pred[avg_pred<0.5]=0\n",
    "print(\"Averaging ensemble technique hamming score:\",hamming_score(ytest_enc,avg_pred))\n",
    "print(\"Average ensemble technique hamming loss:\",hamming_loss(ytest_enc,avg_pred))\n",
    "print(\"Average ensemble classification matrix:\",classification_report(ytest_enc,avg_pred))\n",
    "print(\"average ensemble jaccard_score (samples):\",jaccard_score(ytest_enc,avg_pred,average=\"samples\"))\n",
    "print(\"average ensemble jaccard_score (micro):\",jaccard_score(ytest_enc,avg_pred,average=\"micro\"))\n",
    "print(\"average ensemble jaccard_score (macro):\",jaccard_score(ytest_enc,avg_pred,average=\"macro\"))"
   ]
  },
  {
   "cell_type": "code",
   "execution_count": 18,
   "metadata": {},
   "outputs": [
    {
     "name": "stdout",
     "output_type": "stream",
     "text": [
      "SVM, KNN , MLP , NB\n",
      "Voting ensemble technique hamming score: 0.47993333333333327\n",
      "Voting ensemble technique hamming loss: tf.Tensor(21.27588692743556, shape=(), dtype=float64)\n",
      "Voting jaccard_score (samples): 0.47993333333333327\n",
      "Voting jaccard_score (micro): 0.4185022026431718\n",
      "Voting jaccard_score (macro): 0.2939447861329519\n",
      "Voting ensemble classification matrix:               precision    recall  f1-score   support\n",
      "\n",
      "           0       0.76      0.62      0.68       399\n",
      "           1       0.83      0.64      0.72       368\n",
      "           2       0.68      0.42      0.52       313\n",
      "           3       0.43      0.02      0.04       152\n",
      "           4       0.74      0.43      0.55       201\n",
      "           5       0.71      0.61      0.66       401\n",
      "           6       1.00      0.03      0.07        59\n",
      "           7       0.00      0.00      0.00        53\n",
      "\n",
      "   micro avg       0.75      0.49      0.59      1946\n",
      "   macro avg       0.64      0.35      0.40      1946\n",
      "weighted avg       0.71      0.49      0.56      1946\n",
      " samples avg       0.63      0.53      0.55      1946\n",
      "\n"
     ]
    }
   ],
   "source": [
    "import statistics\n",
    "\n",
    "Gnb_pred[Gnb_pred>=0.5]=1\n",
    "Gnb_pred[Gnb_pred<0.5]=0\n",
    "\n",
    "svm_pred[svm_pred>=0.5]=1\n",
    "svm_pred[svm_pred<0.5]=0\n",
    "\n",
    "knn_pred[knn_pred>=0.5]=1\n",
    "knn_pred[knn_pred<0.5]=0\n",
    "\n",
    "mlp_pred[mlp_pred>=0.5]=1\n",
    "mlp_pred[mlp_pred<0.5]=0\n",
    "\n",
    "voting_pred=[]\n",
    "arr=[]\n",
    "for row in range(0,x_test.shape[0]):\n",
    "    arr=[]\n",
    "    for column in range(0,8):\n",
    "        arr.append(statistics.mode([svm_pred.toarray()[row,column],knn_pred.toarray()[row,column],\n",
    "                                    Gnb_pred.toarray()[row,column]\n",
    "                                    ,mlp_pred.toarray()[row,column],\n",
    "                                   model_ypred[row,column]]))\n",
    "    voting_pred.append(arr)\n",
    "voting_pred=np.array(voting_pred,dtype=float)\n",
    "print(\"SVM, KNN , MLP , NB\")\n",
    "print(\"Voting ensemble technique hamming score:\",hamming_score(ytest_enc,voting_pred))\n",
    "print(\"Voting ensemble technique hamming loss:\",hamming_loss(ytest_enc,voting_pred))\n",
    "print(\"Voting jaccard_score (samples):\",jaccard_score(ytest_enc,voting_pred,average=\"samples\"))\n",
    "print(\"Voting jaccard_score (micro):\",jaccard_score(ytest_enc,voting_pred,average=\"micro\"))\n",
    "print(\"Voting jaccard_score (macro):\",jaccard_score(ytest_enc,voting_pred,average=\"macro\"))\n",
    "print(\"Voting ensemble classification matrix:\",classification_report(ytest_enc,voting_pred))"
   ]
  },
  {
   "cell_type": "code",
   "execution_count": 19,
   "metadata": {},
   "outputs": [
    {
     "name": "stdout",
     "output_type": "stream",
     "text": [
      "OR technique average accuracy: 0.103\n",
      "OR technique hamming score: 0.44962857142857143\n",
      "OR technique jaccard_score (samples): 0.44962857142857143\n",
      "OR technique jaccard_score (micro): 0.4113250934176487\n",
      "OR technique jaccard_score (macro): 0.3519474796008323\n",
      "OR classification matrix:               precision    recall  f1-score   support\n",
      "\n",
      "           0       0.62      0.80      0.70       399\n",
      "           1       0.67      0.82      0.73       368\n",
      "           2       0.45      0.71      0.55       313\n",
      "           3       0.23      0.64      0.34       152\n",
      "           4       0.45      0.64      0.53       201\n",
      "           5       0.58      0.81      0.67       401\n",
      "           6       0.22      0.29      0.25        59\n",
      "           7       0.12      0.36      0.18        53\n",
      "\n",
      "   micro avg       0.48      0.74      0.58      1946\n",
      "   macro avg       0.42      0.63      0.50      1946\n",
      "weighted avg       0.52      0.74      0.60      1946\n",
      " samples avg       0.50      0.76      0.57      1946\n",
      "\n"
     ]
    }
   ],
   "source": [
    "or1=np.logical_or(knn_pred.toarray(),model2_ypred,model_ypred)\n",
    "or2=np.logical_or(Gnb_pred.toarray(),svm_pred.toarray(),mlp_pred.toarray())\n",
    "or3=np.logical_or(or1,or2)\n",
    "print(\"OR technique average accuracy:\",accuracy_score(ytest_enc,or3))\n",
    "print(\"OR technique hamming score:\",hamming_score(ytest_enc,or3))\n",
    "print(\"OR technique jaccard_score (samples):\",jaccard_score(ytest_enc,or3,average=\"samples\"))\n",
    "print(\"OR technique jaccard_score (micro):\",jaccard_score(ytest_enc,or3,average=\"micro\"))\n",
    "print(\"OR technique jaccard_score (macro):\",jaccard_score(ytest_enc,or3,average=\"macro\"))\n",
    "print(\"OR classification matrix:\",classification_report(ytest_enc,or3))"
   ]
  },
  {
   "cell_type": "code",
   "execution_count": 20,
   "metadata": {},
   "outputs": [
    {
     "data": {
      "image/png": "[encoded data removed]",
      "text/plain": [
       "<Figure size 432x288 with 1 Axes>"
      ]
     },
     "metadata": {
      "needs_background": "light"
     },
     "output_type": "display_data"
    }
   ],
   "source": [
    "import matplotlib.pyplot as plt\n",
    "x=['NB','SVM','KNN','MLP' ,'DMLP','CNN','Vote','Avg','OR']\n",
    "y=[[jaccard_score(ytest_enc,Gnb_pred.toarray(),average=\"samples\"),\n",
    "   jaccard_score(ytest_enc,Gnb_pred.toarray(),average=\"micro\"),\n",
    "   jaccard_score(ytest_enc,Gnb_pred.toarray(),average=\"macro\")],\n",
    "   \n",
    "  [jaccard_score(ytest_enc,svm_pred.toarray(),average=\"samples\"),\n",
    "  jaccard_score(ytest_enc,svm_pred.toarray(),average=\"micro\"),\n",
    "  jaccard_score(ytest_enc,svm_pred.toarray(),average=\"macro\")],\n",
    "   \n",
    "  [jaccard_score(ytest_enc,knn_pred.toarray(),average=\"samples\"),\n",
    "   jaccard_score(ytest_enc,knn_pred.toarray(),average=\"micro\"),\n",
    "   jaccard_score(ytest_enc,knn_pred.toarray(),average=\"macro\")],\n",
    "   \n",
    "  [jaccard_score(ytest_enc,mlp_pred.toarray(),average=\"samples\"),\n",
    "   jaccard_score(ytest_enc,mlp_pred.toarray(),average=\"micro\"),\n",
    "   jaccard_score(ytest_enc,mlp_pred.toarray(),average=\"macro\")],\n",
    "   \n",
    "   [jaccard_score(ytest_enc,model_ypred,average=\"samples\"),\n",
    "   jaccard_score(ytest_enc,model_ypred,average=\"micro\"),\n",
    "   jaccard_score(ytest_enc,model_ypred,average=\"macro\")],\n",
    "  \n",
    "   [jaccard_score(ytest_enc,model2_ypred,average=\"samples\"),\n",
    "   jaccard_score(ytest_enc,model2_ypred,average=\"micro\"),\n",
    "   jaccard_score(ytest_enc,model2_ypred,average=\"macro\")],\n",
    "   \n",
    "  [jaccard_score(ytest_enc,voting_pred,average=\"samples\"),\n",
    "   jaccard_score(ytest_enc,voting_pred,average=\"micro\"),\n",
    "   jaccard_score(ytest_enc,voting_pred,average=\"macro\")],\n",
    "   \n",
    "  [jaccard_score(ytest_enc,avg_pred,average=\"samples\"),\n",
    "   jaccard_score(ytest_enc,avg_pred,average=\"micro\"),\n",
    "   jaccard_score(ytest_enc,avg_pred,average=\"macro\")],\n",
    "   \n",
    "  [jaccard_score(ytest_enc,or3,average=\"samples\"),\n",
    "   jaccard_score(ytest_enc,or3,average=\"micro\"),\n",
    "   jaccard_score(ytest_enc,or3,average=\"macro\")]\n",
    "  ]\n",
    "\n",
    "for i in range(0,len(x)):\n",
    "    plt.bar(i,y[i][0],color='b',width=0.2)\n",
    "    plt.bar(i+0.2,y[i][1],color='y',width=0.2)\n",
    "    plt.bar(i+0.4,y[i][2],color='r',width=0.2)\n",
    "    \n",
    "plt.legend(['samples','micro','macro'])\n",
    "plt.xticks(ticks=np.arange(len(x)),labels=x)\n",
    "plt.show()"
   ]
  },
  {
   "cell_type": "code",
   "execution_count": 21,
   "metadata": {},
   "outputs": [
    {
     "data": {
      "image/png": "[encoded data removed]",
      "text/plain": [
       "<Figure size 432x288 with 1 Axes>"
      ]
     },
     "metadata": {
      "needs_background": "light"
     },
     "output_type": "display_data"
    }
   ],
   "source": [
    "e=['anger','anticipation','disgust','fear','joy','sad','surprise','trust']\n",
    "x=['NB','SVM','KNN','MLP','CNN','Voting','Avg','Or3']\n",
    "y=[\n",
    "    precision_recall_fscore_support(ytest_enc,Gnb_pred.toarray()),\n",
    "    precision_recall_fscore_support(ytest_enc,svm_pred.toarray()),\n",
    "    precision_recall_fscore_support(ytest_enc,knn_pred.toarray()),\n",
    "    precision_recall_fscore_support(ytest_enc,mlp_pred.toarray()),\n",
    "    precision_recall_fscore_support(ytest_enc,model2_ypred),\n",
    "    precision_recall_fscore_support(ytest_enc,voting_pred),\n",
    "    precision_recall_fscore_support(ytest_enc,avg_pred),\n",
    "    precision_recall_fscore_support(ytest_enc,or3)\n",
    "]\n",
    "\n",
    "for i in range(0,len(x)):\n",
    "    plt.bar(i-0.1,y[i][0][0],color='b',width=0.1)\n",
    "    plt.bar(i,y[i][1][0],color='y',width=0.1)\n",
    "    plt.bar(i+0.1,y[i][2][0],color='r',width=0.1)\n",
    "    \n",
    "    \n",
    "plt.title('anger')\n",
    "plt.legend(['Precision','Recall','Fscore'])\n",
    "plt.xticks(ticks=np.arange(len(x)),labels=x)\n",
    "plt.show()"
   ]
  },
  {
   "cell_type": "code",
   "execution_count": 22,
   "metadata": {},
   "outputs": [
    {
     "data": {
      "image/png": "[encoded data removed]",
      "text/plain": [
       "<Figure size 432x288 with 1 Axes>"
      ]
     },
     "metadata": {
      "needs_background": "light"
     },
     "output_type": "display_data"
    }
   ],
   "source": [
    "for i in range(0,len(x)):\n",
    "    plt.bar(i-0.1,y[i][0][1],color='b',width=0.1)\n",
    "    plt.bar(i,y[i][1][1],color='y',width=0.1)\n",
    "    plt.bar(i+0.1,y[i][2][1],color='r',width=0.1)\n",
    "    \n",
    "    \n",
    "plt.title('anticipation')\n",
    "plt.legend(['Precision','Recall','Fscore'])\n",
    "plt.xticks(ticks=np.arange(len(x)),labels=x)\n",
    "plt.show()"
   ]
  },
  {
   "cell_type": "code",
   "execution_count": 23,
   "metadata": {},
   "outputs": [
    {
     "data": {
      "image/png": "[encoded data removed]",
      "text/plain": [
       "<Figure size 432x288 with 1 Axes>"
      ]
     },
     "metadata": {
      "needs_background": "light"
     },
     "output_type": "display_data"
    }
   ],
   "source": [
    "for i in range(0,len(x)):\n",
    "    plt.bar(i-0.1,y[i][0][2],color='b',width=0.1)\n",
    "    plt.bar(i,y[i][1][2],color='y',width=0.1)\n",
    "    plt.bar(i+0.1,y[i][2][2],color='r',width=0.1)\n",
    "    \n",
    "    \n",
    "plt.title('disgust')\n",
    "plt.legend(['Precision','Recall','Fscore'])\n",
    "plt.xticks(ticks=np.arange(len(x)),labels=x)\n",
    "plt.show()"
   ]
  },
  {
   "cell_type": "code",
   "execution_count": 24,
   "metadata": {},
   "outputs": [
    {
     "data": {
      "image/png": "[encoded data removed]",
      "text/plain": [
       "<Figure size 432x288 with 1 Axes>"
      ]
     },
     "metadata": {
      "needs_background": "light"
     },
     "output_type": "display_data"
    }
   ],
   "source": [
    "for i in range(0,len(x)):\n",
    "    plt.bar(i-0.1,y[i][0][3],color='b',width=0.1)\n",
    "    plt.bar(i,y[i][1][3],color='y',width=0.1)\n",
    "    plt.bar(i+0.1,y[i][2][3],color='r',width=0.1)\n",
    "    \n",
    "    \n",
    "plt.title('fear')\n",
    "plt.legend(['Precision','Recall','Fscore'])\n",
    "plt.xticks(ticks=np.arange(len(x)),labels=x)\n",
    "plt.show()"
   ]
  },
  {
   "cell_type": "code",
   "execution_count": 25,
   "metadata": {},
   "outputs": [
    {
     "data": {
      "image/png": "[encoded data removed]",
      "text/plain": [
       "<Figure size 432x288 with 1 Axes>"
      ]
     },
     "metadata": {
      "needs_background": "light"
     },
     "output_type": "display_data"
    }
   ],
   "source": [
    "for i in range(0,len(x)):\n",
    "    plt.bar(i-0.1,y[i][0][4],color='b',width=0.1)\n",
    "    plt.bar(i,y[i][1][4],color='y',width=0.1)\n",
    "    plt.bar(i+0.1,y[i][2][4],color='r',width=0.1)\n",
    "    \n",
    "    \n",
    "plt.title('joy')\n",
    "plt.legend(['Precision','Recall','Fscore'])\n",
    "plt.xticks(ticks=np.arange(len(x)),labels=x)\n",
    "plt.show()"
   ]
  },
  {
   "cell_type": "code",
   "execution_count": 26,
   "metadata": {},
   "outputs": [
    {
     "data": {
      "image/png": "[encoded data removed]",
      "text/plain": [
       "<Figure size 432x288 with 1 Axes>"
      ]
     },
     "metadata": {
      "needs_background": "light"
     },
     "output_type": "display_data"
    }
   ],
   "source": [
    "for i in range(0,len(x)):\n",
    "    plt.bar(i-0.1,y[i][0][5],color='b',width=0.1)\n",
    "    plt.bar(i,y[i][1][5],color='y',width=0.1)\n",
    "    plt.bar(i+0.1,y[i][2][5],color='r',width=0.1)\n",
    "    \n",
    "    \n",
    "plt.title('sad')\n",
    "plt.legend(['Precision','Recall','Fscore'])\n",
    "plt.xticks(ticks=np.arange(len(x)),labels=x)\n",
    "plt.show()"
   ]
  },
  {
   "cell_type": "code",
   "execution_count": 27,
   "metadata": {},
   "outputs": [
    {
     "data": {
      "image/png": "[encoded data removed]",
      "text/plain": [
       "<Figure size 432x288 with 1 Axes>"
      ]
     },
     "metadata": {
      "needs_background": "light"
     },
     "output_type": "display_data"
    }
   ],
   "source": [
    "for i in range(0,len(x)):\n",
    "    plt.bar(i-0.1,y[i][0][6],color='b',width=0.1)\n",
    "    plt.bar(i,y[i][1][6],color='y',width=0.1)\n",
    "    plt.bar(i+0.1,y[i][2][6],color='r',width=0.1)\n",
    "    \n",
    "    \n",
    "plt.title('surprise')\n",
    "plt.legend(['Precision','Recall','Fscore'])\n",
    "plt.xticks(ticks=np.arange(len(x)),labels=x)\n",
    "plt.show()"
   ]
  },
  {
   "cell_type": "code",
   "execution_count": 28,
   "metadata": {},
   "outputs": [
    {
     "data": {
      "image/png": "[encoded data removed]",
      "text/plain": [
       "<Figure size 432x288 with 1 Axes>"
      ]
     },
     "metadata": {
      "needs_background": "light"
     },
     "output_type": "display_data"
    }
   ],
   "source": [
    "for i in range(0,len(x)):\n",
    "    plt.bar(i-0.1,y[i][0][7],color='b',width=0.1)\n",
    "    plt.bar(i,y[i][1][7],color='y',width=0.1)\n",
    "    plt.bar(i+0.1,y[i][2][7],color='r',width=0.1)\n",
    "    \n",
    "    \n",
    "plt.title('trust')\n",
    "plt.legend(['Precision','Recall','Fscore'])\n",
    "plt.xticks(ticks=np.arange(len(x)),labels=x)\n",
    "plt.show()"
   ]
  }
 ],
 "metadata": {
  "kernelspec": {
   "display_name": "Python 3",
   "language": "python",
   "name": "python3"
  },
  "language_info": {
   "codemirror_mode": {
    "name": "ipython",
    "version": 3
   },
   "file_extension": ".py",
   "mimetype": "text/x-python",
   "name": "python",
   "nbconvert_exporter": "python",
   "pygments_lexer": "ipython3",
   "version": "3.7.0"
  }
 },
 "nbformat": 4,
 "nbformat_minor": 4
}
